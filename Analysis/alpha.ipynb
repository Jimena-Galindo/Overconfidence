{
 "cells": [
  {
   "cell_type": "code",
   "execution_count": 1,
   "metadata": {},
   "outputs": [],
   "source": [
    "import csv\n",
    "import numpy as np\n",
    "import matplotlib.pyplot as plt\n",
    "import pandas as pd\n",
    "import scipy as sp\n",
    "import seaborn as sns\n",
    "import random"
   ]
  },
  {
   "cell_type": "code",
   "execution_count": 2,
   "metadata": {},
   "outputs": [],
   "source": [
    "# load the clean data\n",
    "updates = pd.read_csv('../Clean/updates.csv')"
   ]
  },
  {
   "cell_type": "code",
   "execution_count": 3,
   "metadata": {},
   "outputs": [],
   "source": [
    "# assign a number code to each of the topics to create an id column that has the participant code and the topic they were updating on.\n",
    "updates.loc[updates['topic']=='Math', 'topic_num'] = '1'\n",
    "updates.loc[updates['topic']=='Science and Technology', 'topic_num'] = '2'\n",
    "updates.loc[updates['topic']=='Verbal', 'topic_num'] = '3'\n",
    "updates.loc[updates['topic']=='Pop-Culture and Art', 'topic_num'] = '4'\n",
    "updates.loc[updates['topic']=='Sports and Video Games', 'topic_num'] = '5'\n",
    "updates.loc[updates['topic']=='US Geography', 'topic_num'] = '6'\n",
    "\n",
    "# make a column that combines the participant code and the topic number into a singe id for a participant in a task.\n",
    "updates['player_code'] = updates['code']+updates['topic_num']\n",
    "\n",
    "updates.reset_index(inplace=True)\n",
    "\n",
    "# need to rename the columns type and rate from updates to theta and omega\n",
    "updates = updates.rename(columns={'type':'theta', 'rate':'omega'})"
   ]
  },
  {
   "cell_type": "code",
   "execution_count": 4,
   "metadata": {},
   "outputs": [],
   "source": [
    "### Add columns to determine how the Subject's beliefs about their type changed across rounds\n",
    "# for each task, determine whether their belief changed from the initial belief or not.\n",
    "# check at every row if the belief is different from the last_button. \n",
    "updates['current_belief_start'] = updates['last_button'] - updates['belief']\n",
    "\n",
    "# for rows in which rond_number is 2 or more, check if last_button is the same as last_button in the previous round_number for that player_code\n",
    "# and register the size of the belief change in the column belief_change\n",
    "updates['belief_change'] = np.where(updates['round_number']>1, \n",
    "                                     updates['last_button'] - updates['last_button'].shift(1), \n",
    "                                     updates['current_belief_start'])\n",
    "\n",
    "# create a column that indicates if the belief changed or not in that round relative to the previous round\n",
    "updates['change_indicator'] = 0\n",
    "updates.loc[updates['belief_change']!=0, 'change_indicator'] = 1\n",
    "# split the sample into two. Those who never changed their belief and those who did\n",
    "# to do so, first group by player_code and then check if the sum of the change_indicator is 0 or not\n",
    "updates['change_indicator_sum'] = updates.groupby('player_code')['change_indicator'].transform('sum')"
   ]
  },
  {
   "cell_type": "code",
   "execution_count": 5,
   "metadata": {},
   "outputs": [],
   "source": [
    "# compute Likelihoods for each player-task\n",
    "#for each subject, calulate the likelihood of each of the types given the signals they saw.\n",
    "# the probability matrices are needed for th calculatin of the likelihood\n",
    "ml = np.array([[.20, .25, .40], [.07, .30, .45], [.02, .20, .50]])\n",
    "mm = np.array([[.40, .45, .65], [.30, .65, .69], [.05, .50, .80]])\n",
    "mh = np.array([[.45, .55, .75], [.35, .69, .80], [.25, .65, .98]])\n",
    "\n",
    "msc = [ml, mm, mh]\n",
    "\n",
    "for i in range(len(updates['player_code'].unique())):\n",
    "    # get a single path for a single player\n",
    "    c = updates['player_code'].unique()[i]\n",
    "    player = updates.loc[updates['player_code']==c, :]\n",
    "    # for each round get the history of (effort, signal) pairs up to that round\n",
    "    p_t=[]\n",
    "    lr_t=[]\n",
    "    prior = [1/3, 1/3, 1/3]\n",
    "\n",
    "    for t in [a+2 for a in range(10)]:\n",
    "        \n",
    "        e_t = int(player.loc[player['round_number']==t, 'effort'])\n",
    "        theta = int(player.loc[player['round_number']==t, 'theta'])\n",
    "        belief_prev = int(player.loc[player['round_number']==t-1, 'last_button'])\n",
    "        belief_new = int(player.loc[player['round_number']==t, 'last_button'])\n",
    "        omega = int(player.loc[player['round_number']==t, 'omega'])\n",
    "        s_t = int(player.loc[player['round_number']==t, 'signal'])\n",
    "        f_t = 10-s_t\n",
    "\n",
    "        # update the belief about omega for each of the types separately\n",
    "        posterior_new = np.diag(np.diagflat(prior)@np.diagflat(sp.stats.binom.pmf(s_t, 10, msc[belief_new][e_t, :], loc=0)))/sum(np.diag(np.diagflat(prior)@np.diagflat(sp.stats.binom.pmf(s_t, 10, msc[belief_new][e_t, :], loc=0))))\n",
    "        posterior_prev = np.diag(np.diagflat(prior)@np.diagflat(sp.stats.binom.pmf(s_t, 10, msc[belief_prev][e_t, :], loc=0)))/sum(np.diag(np.diagflat(prior)@np.diagflat(sp.stats.binom.pmf(s_t, 10, msc[belief_prev][e_t, :], loc=0))))\n",
    "\n",
    "        p_new = sp.stats.binom.pmf(s_t, 10, msc[belief_new][e_t, :], loc=0)@posterior_new\n",
    "        p_prev = sp.stats.binom.pmf(s_t, 10, msc[belief_prev][e_t, :], loc=0)@posterior_prev\n",
    "        # multiply all the elements in p_true and p_belief\n",
    "        l_new = np.prod(p_new)\n",
    "        l_prev = np.prod(p_prev)\n",
    "        # calculate the likelihood ratio\n",
    "        lr_t.append(l_new/l_prev)\n",
    "    # add a column to the updates data frame with the likelihood ratio for each round\n",
    "    updates.loc[(updates['player_code']==c) & (updates['round_number']>=2), 'lr'] = lr_t"
   ]
  },
  {
   "cell_type": "code",
   "execution_count": 6,
   "metadata": {},
   "outputs": [
    {
     "data": {
      "text/plain": [
       "1.0928800828808174"
      ]
     },
     "execution_count": 6,
     "metadata": {},
     "output_type": "execute_result"
    }
   ],
   "source": [
    "# calculate the average of lr for the rows in which change_indicator is 1 and lr is less than 5\n",
    "# this excludes observations in which the likelihood ratio is too high and the update is not informative\n",
    "alpha = updates.loc[(updates['change_indicator']==1)& (updates['lr']<5), 'lr'].mean()\n",
    "alpha"
   ]
  },
  {
   "cell_type": "code",
   "execution_count": 7,
   "metadata": {},
   "outputs": [
    {
     "name": "stdout",
     "output_type": "stream",
     "text": [
      "alpha is 1.0836707828833205in the ego condition\n",
      "alpha is 1.098783698398442in the stereotype condition\n"
     ]
    }
   ],
   "source": [
    "# calculate alpha for each treatment separately, still dropping paths in which subjects changed their belief more than 9 times\n",
    "alpha_ego = updates.loc[(updates['change_indicator']==1) & (updates['change_indicator_sum']<=9) & (updates['treatment']=='ego')& (updates['lr']<5), 'lr'].mean()\n",
    "alpha_stereo = updates.loc[(updates['change_indicator']==1) & (updates['change_indicator_sum']<=9) & (updates['treatment']=='stereotype')& (updates['lr']<5), 'lr'].mean()\n",
    "\n",
    "print('alpha is ' + str(alpha_ego) + 'in the ego condition')\n",
    "print('alpha is ' + str(alpha_stereo) + 'in the stereotype condition')"
   ]
  },
  {
   "cell_type": "code",
   "execution_count": 8,
   "metadata": {},
   "outputs": [
    {
     "data": {
      "text/plain": [
       "Ttest_indResult(statistic=-0.14809609585207406, pvalue=0.8822862680279493)"
      ]
     },
     "execution_count": 8,
     "metadata": {},
     "output_type": "execute_result"
    }
   ],
   "source": [
    "# test if the difference in alpha is significant\n",
    "sp.stats.ttest_ind(updates.loc[(updates['treatment']=='ego') & (updates['round_number']>2) & (updates['change_indicator_sum']<=9) & \n",
    "                            (updates['change_indicator']==1) & (updates['lr']<5) , 'lr'], \n",
    "                updates.loc[(updates['treatment']=='stereotype') & (updates['round_number']>2) & (updates['change_indicator_sum']<=9) & \n",
    "                            (updates['change_indicator']==1) & (updates['lr']<5) , 'lr'])"
   ]
  }
 ],
 "metadata": {
  "kernelspec": {
   "display_name": "Python 3",
   "language": "python",
   "name": "python3"
  },
  "language_info": {
   "codemirror_mode": {
    "name": "ipython",
    "version": 3
   },
   "file_extension": ".py",
   "mimetype": "text/x-python",
   "name": "python",
   "nbconvert_exporter": "python",
   "pygments_lexer": "ipython3",
   "version": "3.10.7"
  },
  "orig_nbformat": 4
 },
 "nbformat": 4,
 "nbformat_minor": 2
}
