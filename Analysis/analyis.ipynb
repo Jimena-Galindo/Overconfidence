{
 "cells": [
  {
   "cell_type": "code",
   "execution_count": null,
   "metadata": {},
   "outputs": [],
   "source": [
    "import csv\n",
    "import numpy as np\n",
    "import matplotlib.pyplot as plt\n",
    "import pandas as pd\n",
    "import scipy as sp\n",
    "import seaborn as sns\n",
    "import random"
   ]
  },
  {
   "cell_type": "code",
   "execution_count": null,
   "metadata": {},
   "outputs": [],
   "source": [
    "# load the clean data\n",
    "updates = pd.read_csv('../Clean/updates.csv')"
   ]
  },
  {
   "cell_type": "markdown",
   "metadata": {},
   "source": [
    "### The Shares of Subjects that are Overconfident, Underconfident and Correctly Specified"
   ]
  },
  {
   "cell_type": "code",
   "execution_count": null,
   "metadata": {},
   "outputs": [],
   "source": [
    "# from the table updates plot the shares of subjects in each of the misspecification categories\n",
    "sns.set_style(\"white\")\n",
    "\n",
    "ax = sns.histplot(x=\"misspecification_num\", hue=\"treatment\", data=updates, \n",
    "                  multiple='stack', stat='probability', shrink=.8, discrete=True)\n",
    "sns.despine()\n",
    "plt.xlabel('')\n",
    "plt.xticks([-1,0,1], ['Underconfident', 'Correct', 'Overconfident'])\n",
    "plt.ylabel('Share')\n",
    "\n",
    "plt.savefig('../figures/misspecification_histogram.png', dpi=300, bbox_inches='tight')"
   ]
  }
 ],
 "metadata": {
  "language_info": {
   "name": "python"
  },
  "orig_nbformat": 4
 },
 "nbformat": 4,
 "nbformat_minor": 2
}
