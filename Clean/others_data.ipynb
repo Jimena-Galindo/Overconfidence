{
 "cells": [
  {
   "cell_type": "markdown",
   "metadata": {},
   "source": [
    "Take the data from the ego sessions and extract only the columns that we need to pass to the stereotype treatment."
   ]
  },
  {
   "cell_type": "code",
   "execution_count": 2,
   "metadata": {},
   "outputs": [],
   "source": [
    "import pandas as pd"
   ]
  },
  {
   "cell_type": "code",
   "execution_count": 3,
   "metadata": {},
   "outputs": [
    {
     "name": "stderr",
     "output_type": "stream",
     "text": [
      "/var/folders/fz/pp86wz7x4h514cs2lxtvtq3c0000gn/T/ipykernel_60245/2037852731.py:8: PerformanceWarning: DataFrame is highly fragmented.  This is usually the result of calling `frame.insert` many times, which has poor performance.  Consider joining all columns at once using pd.concat(axis=1) instead. To get a de-fragmented frame, use `newframe = frame.copy()`\n",
      "  ego_wide['treatment'] = 'ego'\n",
      "/var/folders/fz/pp86wz7x4h514cs2lxtvtq3c0000gn/T/ipykernel_60245/2037852731.py:9: PerformanceWarning: DataFrame is highly fragmented.  This is usually the result of calling `frame.insert` many times, which has poor performance.  Consider joining all columns at once using pd.concat(axis=1) instead. To get a de-fragmented frame, use `newframe = frame.copy()`\n",
      "  ego_wide.reset_index(inplace=True)\n"
     ]
    }
   ],
   "source": [
    "# import the data in wide format for eah session\n",
    "session1 = pd.read_csv(\"../Simulations/demo/data/ego_demo_data.csv\")\n",
    "session2 = pd.read_csv(\"../Simulations/demo/data/all_apps_wide-2023-09-01.csv\")\n",
    "\n",
    "# concatenate the two sessions\n",
    "ego_wide = pd.concat([session1, session2], axis=0, sort=False)\n",
    "\n",
    "ego_wide['treatment'] = 'ego'\n",
    "ego_wide.reset_index(inplace=True)"
   ]
  },
  {
   "cell_type": "code",
   "execution_count": 8,
   "metadata": {},
   "outputs": [],
   "source": [
    "others_data = ego_wide[['participant.code', \n",
    "                        'participant.verbal_score', \n",
    "                        'participant.math_score', \n",
    "                        'participant.science_score',\n",
    "                        'participant.sports_score',\n",
    "                        'participant.us_score',\n",
    "                        'participant.pop_score',\n",
    "                        'participant.gender',\n",
    "                        'participant.nationality']]"
   ]
  },
  {
   "cell_type": "code",
   "execution_count": null,
   "metadata": {},
   "outputs": [],
   "source": [
    "# save the data frame as a csv file\n",
    "others_data.to_csv('../Simulations/demo/data/others_demo_data.csv', index=False)"
   ]
  }
 ],
 "metadata": {
  "kernelspec": {
   "display_name": "Python 3",
   "language": "python",
   "name": "python3"
  },
  "language_info": {
   "codemirror_mode": {
    "name": "ipython",
    "version": 3
   },
   "file_extension": ".py",
   "mimetype": "text/x-python",
   "name": "python",
   "nbconvert_exporter": "python",
   "pygments_lexer": "ipython3",
   "version": "3.10.7"
  },
  "orig_nbformat": 4
 },
 "nbformat": 4,
 "nbformat_minor": 2
}
