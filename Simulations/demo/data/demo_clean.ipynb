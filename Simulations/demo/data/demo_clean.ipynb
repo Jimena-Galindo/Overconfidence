{
 "cells": [
  {
   "cell_type": "code",
   "execution_count": 1,
   "metadata": {},
   "outputs": [],
   "source": [
    "import csv\n",
    "import numpy as np\n",
    "import matplotlib.pyplot as plt\n",
    "import pandas as pd\n",
    "import scipy as sp\n",
    "import seaborn as sns\n",
    "import random"
   ]
  },
  {
   "cell_type": "markdown",
   "metadata": {},
   "source": [
    "### Clean the data for all the Ego sessions separately from all the stereotype sessions. I start with ego sessions."
   ]
  },
  {
   "cell_type": "code",
   "execution_count": 2,
   "metadata": {},
   "outputs": [
    {
     "data": {
      "text/html": [
       "<div>\n",
       "<style scoped>\n",
       "    .dataframe tbody tr th:only-of-type {\n",
       "        vertical-align: middle;\n",
       "    }\n",
       "\n",
       "    .dataframe tbody tr th {\n",
       "        vertical-align: top;\n",
       "    }\n",
       "\n",
       "    .dataframe thead th {\n",
       "        text-align: right;\n",
       "    }\n",
       "</style>\n",
       "<table border=\"1\" class=\"dataframe\">\n",
       "  <thead>\n",
       "    <tr style=\"text-align: right;\">\n",
       "      <th></th>\n",
       "      <th>participant.id_in_session</th>\n",
       "      <th>participant.code</th>\n",
       "      <th>participant.label</th>\n",
       "      <th>participant._is_bot</th>\n",
       "      <th>participant._index_in_pages</th>\n",
       "      <th>participant._max_page_index</th>\n",
       "      <th>participant._current_app_name</th>\n",
       "      <th>participant._current_page_name</th>\n",
       "      <th>participant.time_started_utc</th>\n",
       "      <th>participant.visited</th>\n",
       "      <th>...</th>\n",
       "      <th>SignalsOther.90.player.math_other</th>\n",
       "      <th>SignalsOther.90.player.verbal_other</th>\n",
       "      <th>SignalsOther.90.player.science_other</th>\n",
       "      <th>SignalsOther.90.player.pop_other</th>\n",
       "      <th>SignalsOther.90.player.us_other</th>\n",
       "      <th>SignalsOther.90.player.sports_other</th>\n",
       "      <th>SignalsOther.90.player.gender_other</th>\n",
       "      <th>SignalsOther.90.player.nationality_other</th>\n",
       "      <th>SignalsOther.90.group.id_in_subsession</th>\n",
       "      <th>SignalsOther.90.subsession.round_number</th>\n",
       "    </tr>\n",
       "  </thead>\n",
       "  <tbody>\n",
       "    <tr>\n",
       "      <th>0</th>\n",
       "      <td>1</td>\n",
       "      <td>rmjbqj0n</td>\n",
       "      <td>NaN</td>\n",
       "      <td>0</td>\n",
       "      <td>1377</td>\n",
       "      <td>1377</td>\n",
       "      <td>Questionnaire</td>\n",
       "      <td>Results</td>\n",
       "      <td>2023-08-21 17:47:37.575525</td>\n",
       "      <td>1</td>\n",
       "      <td>...</td>\n",
       "      <td>NaN</td>\n",
       "      <td>NaN</td>\n",
       "      <td>NaN</td>\n",
       "      <td>NaN</td>\n",
       "      <td>NaN</td>\n",
       "      <td>NaN</td>\n",
       "      <td>NaN</td>\n",
       "      <td>NaN</td>\n",
       "      <td>NaN</td>\n",
       "      <td>NaN</td>\n",
       "    </tr>\n",
       "    <tr>\n",
       "      <th>1</th>\n",
       "      <td>2</td>\n",
       "      <td>zgnud950</td>\n",
       "      <td>NaN</td>\n",
       "      <td>0</td>\n",
       "      <td>1377</td>\n",
       "      <td>1377</td>\n",
       "      <td>Questionnaire</td>\n",
       "      <td>Results</td>\n",
       "      <td>2023-08-21 17:47:40.498390</td>\n",
       "      <td>1</td>\n",
       "      <td>...</td>\n",
       "      <td>NaN</td>\n",
       "      <td>NaN</td>\n",
       "      <td>NaN</td>\n",
       "      <td>NaN</td>\n",
       "      <td>NaN</td>\n",
       "      <td>NaN</td>\n",
       "      <td>NaN</td>\n",
       "      <td>NaN</td>\n",
       "      <td>NaN</td>\n",
       "      <td>NaN</td>\n",
       "    </tr>\n",
       "  </tbody>\n",
       "</table>\n",
       "<p>2 rows × 9565 columns</p>\n",
       "</div>"
      ],
      "text/plain": [
       "   participant.id_in_session participant.code  participant.label  \\\n",
       "0                          1         rmjbqj0n                NaN   \n",
       "1                          2         zgnud950                NaN   \n",
       "\n",
       "   participant._is_bot  participant._index_in_pages  \\\n",
       "0                    0                         1377   \n",
       "1                    0                         1377   \n",
       "\n",
       "   participant._max_page_index participant._current_app_name  \\\n",
       "0                         1377                 Questionnaire   \n",
       "1                         1377                 Questionnaire   \n",
       "\n",
       "  participant._current_page_name participant.time_started_utc  \\\n",
       "0                        Results   2023-08-21 17:47:37.575525   \n",
       "1                        Results   2023-08-21 17:47:40.498390   \n",
       "\n",
       "   participant.visited  ...  SignalsOther.90.player.math_other  \\\n",
       "0                    1  ...                                NaN   \n",
       "1                    1  ...                                NaN   \n",
       "\n",
       "   SignalsOther.90.player.verbal_other  SignalsOther.90.player.science_other  \\\n",
       "0                                  NaN                                   NaN   \n",
       "1                                  NaN                                   NaN   \n",
       "\n",
       "  SignalsOther.90.player.pop_other  SignalsOther.90.player.us_other  \\\n",
       "0                              NaN                              NaN   \n",
       "1                              NaN                              NaN   \n",
       "\n",
       "   SignalsOther.90.player.sports_other  SignalsOther.90.player.gender_other  \\\n",
       "0                                  NaN                                  NaN   \n",
       "1                                  NaN                                  NaN   \n",
       "\n",
       "   SignalsOther.90.player.nationality_other  \\\n",
       "0                                       NaN   \n",
       "1                                       NaN   \n",
       "\n",
       "   SignalsOther.90.group.id_in_subsession  \\\n",
       "0                                     NaN   \n",
       "1                                     NaN   \n",
       "\n",
       "   SignalsOther.90.subsession.round_number  \n",
       "0                                      NaN  \n",
       "1                                      NaN  \n",
       "\n",
       "[2 rows x 9565 columns]"
      ]
     },
     "execution_count": 2,
     "metadata": {},
     "output_type": "execute_result"
    }
   ],
   "source": [
    "# import the data in wide format\n",
    "ego_wide = pd.read_csv(\"../data/ego_demo_data.csv\")\n",
    "ego_wide.head()"
   ]
  },
  {
   "cell_type": "code",
   "execution_count": 3,
   "metadata": {},
   "outputs": [],
   "source": [
    "# from the data frame ego_wide, select all the columns that have names that start with 'Quizzes' and append the column 'participant.code\n",
    "quiz_cols = [col for col in ego_wide.columns if 'Quizzes' in col]+['participant.code']\n",
    "\n",
    "\n",
    "# from the data frame ego_wide, select all the columns that have names that start with 'participant.'\n",
    "participant_cols = [col for col in ego_wide.columns if 'participant' in col]+['participant.code']\n",
    "\n",
    "# from the data frame ego_wide, select all the columns that have names that start with 'session.'\n",
    "session_cols = [col for col in ego_wide.columns if 'session' in col]+['participant.code']\n",
    "\n",
    "# from the data frame ego_wide, select all the columns that have names that start with 'Signals.'\n",
    "signal_cols = [col for col in ego_wide.columns if 'Signals' in col]+['participant.code']\n",
    "\n",
    "# from the data frame ego_wide, select all the columns that have names that start with 'SignalsOther.'\n",
    "signal_other_cols = [col for col in ego_wide.columns if 'SignalsOther' in col]+['participant.code']\n",
    "\n",
    "# from the data frame ego_wide, select all the columns that have names that start with 'Questionnaire.'\n",
    "questionnaire_cols = [col for col in ego_wide.columns if 'Questionnaire' in col]+['participant.code']\n"
   ]
  },
  {
   "cell_type": "code",
   "execution_count": 4,
   "metadata": {},
   "outputs": [],
   "source": [
    "# split the data frame ego_wide into 6 data frames using the columns we just selected\n",
    "ego_quiz = ego_wide[quiz_cols]\n",
    "ego_participant = ego_wide[participant_cols]\n",
    "ego_session = ego_wide[session_cols]\n",
    "ego_signal = ego_wide[signal_cols]\n",
    "ego_signal_other = ego_wide[signal_other_cols]\n",
    "ego_questionnaire = ego_wide[questionnaire_cols]"
   ]
  },
  {
   "cell_type": "markdown",
   "metadata": {},
   "source": [
    "## Quiz Scores\n",
    "First I will clean the data for the first part of the experiment to get only the true scores."
   ]
  },
  {
   "cell_type": "code",
   "execution_count": 5,
   "metadata": {},
   "outputs": [],
   "source": [
    "# for ego_quiz rename all the columns to remove the prefix 'Quizzes'\n",
    "ego_quiz.columns = [col.replace('Quizzes.','') for col in ego_quiz.columns]\n",
    "# for ego_quiz rename all the columns to remove the prefix 'player'\n",
    "ego_quiz.columns = [col.replace('player.','') for col in ego_quiz.columns]"
   ]
  },
  {
   "cell_type": "code",
   "execution_count": 6,
   "metadata": {},
   "outputs": [],
   "source": [
    "# drop all the columns that have either 'group.' or 'subsession.' in the name\n",
    "ego_quiz = ego_quiz[[col for col in ego_quiz.columns if 'group.' not in col and 'subsession.' not in col]]\n",
    "# melt the data making the participant code the id variable\n",
    "ego_quiz_long = pd.melt(ego_quiz, id_vars=['participant.code'])"
   ]
  },
  {
   "cell_type": "code",
   "execution_count": 7,
   "metadata": {},
   "outputs": [],
   "source": [
    "# split the variable column into two columns, one for the round_number and one for the question\n",
    "ego_quiz_long[['round_number','variable_name']] = ego_quiz_long['variable'].str.split('.', expand=True)\n",
    "# drop the column variable with the long names\n",
    "ego_quiz_long = ego_quiz_long.drop('variable', axis=1)"
   ]
  },
  {
   "cell_type": "code",
   "execution_count": 17,
   "metadata": {},
   "outputs": [],
   "source": [
    "# reshape ego_quiz_long from long to wide format by making each of the values in variable_name a column\n",
    "ego_quiz_wide = ego_quiz_long.pivot(index=['participant.code','round_number'], columns=['variable_name'], values='value')\n",
    "# make a table that has only the score for each topic and the participant code\n",
    "ego_scores = ego_quiz_wide[['topic', 'score']]"
   ]
  },
  {
   "cell_type": "code",
   "execution_count": 26,
   "metadata": {},
   "outputs": [],
   "source": []
  }
 ],
 "metadata": {
  "kernelspec": {
   "display_name": "Python 3",
   "language": "python",
   "name": "python3"
  },
  "language_info": {
   "codemirror_mode": {
    "name": "ipython",
    "version": 3
   },
   "file_extension": ".py",
   "mimetype": "text/x-python",
   "name": "python",
   "nbconvert_exporter": "python",
   "pygments_lexer": "ipython3",
   "version": "3.10.7"
  },
  "orig_nbformat": 4
 },
 "nbformat": 4,
 "nbformat_minor": 2
}
