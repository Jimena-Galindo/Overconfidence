{
 "cells": [
  {
   "cell_type": "code",
   "execution_count": 1,
   "metadata": {},
   "outputs": [],
   "source": [
    "import csv\n",
    "import numpy as np\n",
    "import matplotlib.pyplot as plt\n",
    "import pandas as pd\n",
    "import scipy as sp\n",
    "import seaborn as sns\n",
    "import random"
   ]
  },
  {
   "cell_type": "markdown",
   "metadata": {},
   "source": [
    "### Clean the data for all the Ego sessions separately from all the stereotype sessions. I start with ego sessions."
   ]
  },
  {
   "cell_type": "code",
   "execution_count": 2,
   "metadata": {},
   "outputs": [
    {
     "data": {
      "text/html": [
       "<div>\n",
       "<style scoped>\n",
       "    .dataframe tbody tr th:only-of-type {\n",
       "        vertical-align: middle;\n",
       "    }\n",
       "\n",
       "    .dataframe tbody tr th {\n",
       "        vertical-align: top;\n",
       "    }\n",
       "\n",
       "    .dataframe thead th {\n",
       "        text-align: right;\n",
       "    }\n",
       "</style>\n",
       "<table border=\"1\" class=\"dataframe\">\n",
       "  <thead>\n",
       "    <tr style=\"text-align: right;\">\n",
       "      <th></th>\n",
       "      <th>participant.id_in_session</th>\n",
       "      <th>participant.code</th>\n",
       "      <th>participant.label</th>\n",
       "      <th>participant._is_bot</th>\n",
       "      <th>participant._index_in_pages</th>\n",
       "      <th>participant._max_page_index</th>\n",
       "      <th>participant._current_app_name</th>\n",
       "      <th>participant._current_page_name</th>\n",
       "      <th>participant.time_started_utc</th>\n",
       "      <th>participant.visited</th>\n",
       "      <th>...</th>\n",
       "      <th>SignalsOther.90.player.verbal_other</th>\n",
       "      <th>SignalsOther.90.player.science_other</th>\n",
       "      <th>SignalsOther.90.player.pop_other</th>\n",
       "      <th>SignalsOther.90.player.us_other</th>\n",
       "      <th>SignalsOther.90.player.sports_other</th>\n",
       "      <th>SignalsOther.90.player.gender_other</th>\n",
       "      <th>SignalsOther.90.player.nationality_other</th>\n",
       "      <th>SignalsOther.90.group.id_in_subsession</th>\n",
       "      <th>SignalsOther.90.subsession.round_number</th>\n",
       "      <th>treatment</th>\n",
       "    </tr>\n",
       "  </thead>\n",
       "  <tbody>\n",
       "    <tr>\n",
       "      <th>0</th>\n",
       "      <td>1</td>\n",
       "      <td>rmjbqj0n</td>\n",
       "      <td>NaN</td>\n",
       "      <td>0</td>\n",
       "      <td>1377</td>\n",
       "      <td>1377</td>\n",
       "      <td>Questionnaire</td>\n",
       "      <td>Results</td>\n",
       "      <td>2023-08-21 17:47:37.575525</td>\n",
       "      <td>1</td>\n",
       "      <td>...</td>\n",
       "      <td>NaN</td>\n",
       "      <td>NaN</td>\n",
       "      <td>NaN</td>\n",
       "      <td>NaN</td>\n",
       "      <td>NaN</td>\n",
       "      <td>NaN</td>\n",
       "      <td>NaN</td>\n",
       "      <td>NaN</td>\n",
       "      <td>NaN</td>\n",
       "      <td>ego</td>\n",
       "    </tr>\n",
       "    <tr>\n",
       "      <th>1</th>\n",
       "      <td>2</td>\n",
       "      <td>zgnud950</td>\n",
       "      <td>NaN</td>\n",
       "      <td>0</td>\n",
       "      <td>1377</td>\n",
       "      <td>1377</td>\n",
       "      <td>Questionnaire</td>\n",
       "      <td>Results</td>\n",
       "      <td>2023-08-21 17:47:40.498390</td>\n",
       "      <td>1</td>\n",
       "      <td>...</td>\n",
       "      <td>NaN</td>\n",
       "      <td>NaN</td>\n",
       "      <td>NaN</td>\n",
       "      <td>NaN</td>\n",
       "      <td>NaN</td>\n",
       "      <td>NaN</td>\n",
       "      <td>NaN</td>\n",
       "      <td>NaN</td>\n",
       "      <td>NaN</td>\n",
       "      <td>ego</td>\n",
       "    </tr>\n",
       "  </tbody>\n",
       "</table>\n",
       "<p>2 rows × 9566 columns</p>\n",
       "</div>"
      ],
      "text/plain": [
       "   participant.id_in_session participant.code  participant.label  \\\n",
       "0                          1         rmjbqj0n                NaN   \n",
       "1                          2         zgnud950                NaN   \n",
       "\n",
       "   participant._is_bot  participant._index_in_pages  \\\n",
       "0                    0                         1377   \n",
       "1                    0                         1377   \n",
       "\n",
       "   participant._max_page_index participant._current_app_name  \\\n",
       "0                         1377                 Questionnaire   \n",
       "1                         1377                 Questionnaire   \n",
       "\n",
       "  participant._current_page_name participant.time_started_utc  \\\n",
       "0                        Results   2023-08-21 17:47:37.575525   \n",
       "1                        Results   2023-08-21 17:47:40.498390   \n",
       "\n",
       "   participant.visited  ...  SignalsOther.90.player.verbal_other  \\\n",
       "0                    1  ...                                  NaN   \n",
       "1                    1  ...                                  NaN   \n",
       "\n",
       "   SignalsOther.90.player.science_other  SignalsOther.90.player.pop_other  \\\n",
       "0                                   NaN                               NaN   \n",
       "1                                   NaN                               NaN   \n",
       "\n",
       "  SignalsOther.90.player.us_other  SignalsOther.90.player.sports_other  \\\n",
       "0                             NaN                                  NaN   \n",
       "1                             NaN                                  NaN   \n",
       "\n",
       "   SignalsOther.90.player.gender_other  \\\n",
       "0                                  NaN   \n",
       "1                                  NaN   \n",
       "\n",
       "   SignalsOther.90.player.nationality_other  \\\n",
       "0                                       NaN   \n",
       "1                                       NaN   \n",
       "\n",
       "   SignalsOther.90.group.id_in_subsession  \\\n",
       "0                                     NaN   \n",
       "1                                     NaN   \n",
       "\n",
       "   SignalsOther.90.subsession.round_number  treatment  \n",
       "0                                      NaN        ego  \n",
       "1                                      NaN        ego  \n",
       "\n",
       "[2 rows x 9566 columns]"
      ]
     },
     "execution_count": 2,
     "metadata": {},
     "output_type": "execute_result"
    }
   ],
   "source": [
    "# import the data in wide format\n",
    "ego_wide = pd.read_csv(\"../data/ego_demo_data.csv\")\n",
    "ego_wide['treatment'] = 'ego'\n",
    "ego_wide.head()\n"
   ]
  },
  {
   "cell_type": "code",
   "execution_count": 3,
   "metadata": {},
   "outputs": [],
   "source": [
    "# from the data frame ego_wide, select all the columns that have names that start with 'Quizzes' and append the column 'participant.code\n",
    "quiz_cols = [col for col in ego_wide.columns if 'Quizzes' in col]+['participant.code', 'treatment']\n",
    "\n",
    "\n",
    "# from the data frame ego_wide, select all the columns that have names that start with 'participant.'\n",
    "participant_cols = [col for col in ego_wide.columns if 'participant' in col]+['participant.code', 'treatment']\n",
    "\n",
    "# from the data frame ego_wide, select all the columns that have names that start with 'session.'\n",
    "session_cols = [col for col in ego_wide.columns if 'session' in col]+['participant.code', 'treatment']\n",
    "\n",
    "# from the data frame ego_wide, select all the columns that have names that start with 'Signals.'\n",
    "signal_cols = [col for col in ego_wide.columns if 'Signals' in col]+['participant.code', 'treatment']\n",
    "\n",
    "# from the data frame ego_wide, select all the columns that have names that start with 'SignalsOther.'\n",
    "signal_other_cols = [col for col in ego_wide.columns if 'SignalsOther' in col]+['participant.code', 'treatment']\n",
    "\n",
    "# from the data frame ego_wide, select all the columns that have names that start with 'Questionnaire.'\n",
    "questionnaire_cols = [col for col in ego_wide.columns if 'Questionnaire' in col]+['participant.code', 'treatment']\n"
   ]
  },
  {
   "cell_type": "code",
   "execution_count": 4,
   "metadata": {},
   "outputs": [],
   "source": [
    "# split the data frame ego_wide into 6 data frames using the columns we just selected\n",
    "ego_quiz = ego_wide[quiz_cols]\n",
    "ego_participant = ego_wide[participant_cols]\n",
    "ego_session = ego_wide[session_cols]\n",
    "ego_signal = ego_wide[signal_cols]\n",
    "ego_signal_other = ego_wide[signal_other_cols]\n",
    "ego_questionnaire = ego_wide[questionnaire_cols]"
   ]
  },
  {
   "cell_type": "markdown",
   "metadata": {},
   "source": [
    "## Quiz Scores\n",
    "First I will clean the data for the first part of the experiment to get only the true scores."
   ]
  },
  {
   "cell_type": "code",
   "execution_count": 5,
   "metadata": {},
   "outputs": [],
   "source": [
    "# for ego_quiz rename all the columns to remove the prefix 'Quizzes'\n",
    "ego_quiz.columns = [col.replace('Quizzes.','') for col in ego_quiz.columns]\n",
    "# for ego_quiz rename all the columns to remove the prefix 'player'\n",
    "ego_quiz.columns = [col.replace('player.','') for col in ego_quiz.columns]"
   ]
  },
  {
   "cell_type": "code",
   "execution_count": 6,
   "metadata": {},
   "outputs": [],
   "source": [
    "# drop all the columns that have either 'group.' or 'subsession.' in the name\n",
    "ego_quiz = ego_quiz[[col for col in ego_quiz.columns if 'group.' not in col and 'subsession.' not in col]]\n",
    "# melt the data making the participant code the id variable\n",
    "ego_quiz_long = pd.melt(ego_quiz, id_vars=['participant.code'])"
   ]
  },
  {
   "cell_type": "code",
   "execution_count": 7,
   "metadata": {},
   "outputs": [],
   "source": [
    "# split the variable column into two columns, one for the round_number and one for the question\n",
    "ego_quiz_long[['round_number','variable_name']] = ego_quiz_long['variable'].str.split('.', expand=True)\n",
    "# drop the column variable with the long names\n",
    "ego_quiz_long = ego_quiz_long.drop('variable', axis=1)"
   ]
  },
  {
   "cell_type": "code",
   "execution_count": 8,
   "metadata": {},
   "outputs": [],
   "source": [
    "# reshape ego_quiz_long from long to wide format by making each of the values in variable_name a column\n",
    "ego_quiz_wide = ego_quiz_long.pivot(index=['participant.code','round_number'], columns=['variable_name'], values='value')\n",
    "# make a table that has only the score for each topic and the participant code\n",
    "ego_scores = ego_quiz_wide[['topic', 'score']]\n",
    "# reset the index so that participant_code is just another colum\n",
    "ego_scores.reset_index(inplace=True)"
   ]
  },
  {
   "cell_type": "markdown",
   "metadata": {},
   "source": [
    "### Participant level variables"
   ]
  },
  {
   "cell_type": "code",
   "execution_count": 9,
   "metadata": {},
   "outputs": [],
   "source": [
    "# Rename all the other variables withoutht the 'participant.' prefix\n",
    "ego_participant.columns = [col.replace('participant.','') for col in ego_participant.columns]\n"
   ]
  },
  {
   "cell_type": "markdown",
   "metadata": {},
   "source": [
    "## The variables from the main part of the experiment\n",
    "This table has all the effort choices and signal realizations round by round. It also has the beliefs about their score and the buttons clicked for the type matixes"
   ]
  },
  {
   "cell_type": "code",
   "execution_count": 10,
   "metadata": {},
   "outputs": [],
   "source": [
    "# from ego_signal drop all the columns that have the 'SignalsOther.' prefix\n",
    "ego_signal = ego_signal[[col for col in ego_signal.columns if 'SignalsOther.' not in col]]\n",
    "\n",
    "# remove the 'Signals.' prefix from all the column names and the 'participant.' prefix from the code column\n",
    "ego_signal.columns = [col.replace('Signals.','') for col in ego_signal.columns]\n",
    "ego_signal.columns = [col.replace('participant.','') for col in ego_signal.columns]\n",
    "# replace the 'player.' in the names of the columns\n",
    "ego_signal.columns = [col.replace('player.', '') for col in ego_signal.columns]\n",
    "\n",
    "# drop the group and subsession level columns\n",
    "ego_signal = ego_signal[[col for col in ego_signal.columns if 'group.' not in col and '.subsession' not in col]]\n",
    "\n",
    "# melt the data set making code the id column. then split all the variable names\n",
    "ego_signal_long = pd.melt(ego_signal, id_vars='code')"
   ]
  },
  {
   "cell_type": "code",
   "execution_count": 11,
   "metadata": {},
   "outputs": [],
   "source": [
    "# split the variable column into two columns, one for the round_number and one for the question\n",
    "ego_signal_long[['round_number','variable_name']] = ego_signal_long['variable'].str.split('.', expand=True)\n",
    "# drop the column variable with the long names\n",
    "ego_signal_long = ego_signal_long.drop('variable', axis=1)"
   ]
  },
  {
   "cell_type": "code",
   "execution_count": 12,
   "metadata": {},
   "outputs": [],
   "source": [
    "# reshape ego_signal_long from long to wide format by making each of the values in variable_name a column\n",
    "ego_signal_wide = ego_signal_long.pivot(index=['code','round_number'], columns=['variable_name'], values='value')\n",
    "ego_signal_wide.reset_index(inplace=True)"
   ]
  },
  {
   "cell_type": "code",
   "execution_count": 34,
   "metadata": {},
   "outputs": [],
   "source": [
    "beliefs = ego_signal_wide.loc[ego_signal_wide['science_belief']>=0, \n",
    "                    ['code','science_belief', 'us_belief', 'math_belief', 'verbal_belief', 'pop_belief', 'sports_belief',\n",
    "                    'science_certainty', 'us_certainty', 'math_certainty', 'verbal_certainty', 'pop_certainty', 'sports_certainty']]"
   ]
  },
  {
   "cell_type": "code",
   "execution_count": 36,
   "metadata": {},
   "outputs": [
    {
     "data": {
      "text/html": [
       "<div>\n",
       "<style scoped>\n",
       "    .dataframe tbody tr th:only-of-type {\n",
       "        vertical-align: middle;\n",
       "    }\n",
       "\n",
       "    .dataframe tbody tr th {\n",
       "        vertical-align: top;\n",
       "    }\n",
       "\n",
       "    .dataframe thead th {\n",
       "        text-align: right;\n",
       "    }\n",
       "</style>\n",
       "<table border=\"1\" class=\"dataframe\">\n",
       "  <thead>\n",
       "    <tr style=\"text-align: right;\">\n",
       "      <th>variable_name</th>\n",
       "      <th>code</th>\n",
       "      <th>science_belief</th>\n",
       "      <th>us_belief</th>\n",
       "      <th>math_belief</th>\n",
       "      <th>verbal_belief</th>\n",
       "      <th>pop_belief</th>\n",
       "      <th>sports_belief</th>\n",
       "      <th>science_certainty</th>\n",
       "      <th>us_certainty</th>\n",
       "      <th>math_certainty</th>\n",
       "      <th>verbal_certainty</th>\n",
       "      <th>pop_certainty</th>\n",
       "      <th>sports_certainty</th>\n",
       "    </tr>\n",
       "  </thead>\n",
       "  <tbody>\n",
       "    <tr>\n",
       "      <th>0</th>\n",
       "      <td>rmjbqj0n</td>\n",
       "      <td>2</td>\n",
       "      <td>2</td>\n",
       "      <td>2</td>\n",
       "      <td>2</td>\n",
       "      <td>2</td>\n",
       "      <td>2</td>\n",
       "      <td>67</td>\n",
       "      <td>27</td>\n",
       "      <td>77</td>\n",
       "      <td>90</td>\n",
       "      <td>100</td>\n",
       "      <td>99</td>\n",
       "    </tr>\n",
       "    <tr>\n",
       "      <th>151</th>\n",
       "      <td>zgnud950</td>\n",
       "      <td>1</td>\n",
       "      <td>2</td>\n",
       "      <td>0</td>\n",
       "      <td>1</td>\n",
       "      <td>0</td>\n",
       "      <td>1</td>\n",
       "      <td>90</td>\n",
       "      <td>30</td>\n",
       "      <td>50</td>\n",
       "      <td>100</td>\n",
       "      <td>100</td>\n",
       "      <td>75</td>\n",
       "    </tr>\n",
       "  </tbody>\n",
       "</table>\n",
       "</div>"
      ],
      "text/plain": [
       "variable_name      code science_belief us_belief math_belief verbal_belief  \\\n",
       "0              rmjbqj0n              2         2           2             2   \n",
       "151            zgnud950              1         2           0             1   \n",
       "\n",
       "variable_name pop_belief sports_belief science_certainty us_certainty  \\\n",
       "0                      2             2                67           27   \n",
       "151                    0             1                90           30   \n",
       "\n",
       "variable_name math_certainty verbal_certainty pop_certainty sports_certainty  \n",
       "0                         77               90           100               99  \n",
       "151                       50              100           100               75  "
      ]
     },
     "execution_count": 36,
     "metadata": {},
     "output_type": "execute_result"
    }
   ],
   "source": [
    "beliefs"
   ]
  },
  {
   "cell_type": "markdown",
   "metadata": {},
   "source": [
    "### Split the signal stage by topic. \n",
    "For all participants, they got the same exogenous rate and the same order of signals for each topic.\n",
    "I will then merge the topics that have the same exchange rate and the same order of signals.\n",
    "\n",
    "there are nine combinations of type and rate that each participant could have had in each topic. Those 9 pairs are the ones I am interested in. "
   ]
  },
  {
   "cell_type": "code",
   "execution_count": 42,
   "metadata": {},
   "outputs": [],
   "source": [
    "ego_science = ego_signal_wide.loc[(ego_signal_wide['effort']>=0) & (ego_signal_wide['topic']=='Science and Technology'), \n",
    "                    ['code', 'round_number', 'effort', 'fails', 'last_button', 'science_score', 'topic', 'signal']]\n",
    "# impute the values for science_belief and the science_certainty from the table beliefs\n",
    "ego_science = ego_science.merge(beliefs[['code', 'science_belief', 'science_certainty']], on='code', how='left')\n",
    "\n",
    "# add a column with the type according to the science score\n",
    "ego_science.loc[ego_science['science_score']>15, 'type'] = '2'\n",
    "ego_science.loc[ego_science['science_score']<15, 'type'] = '1'\n",
    "ego_science.loc[ego_science['science_score']<6, 'type'] = '0'\n"
   ]
  },
  {
   "cell_type": "code",
   "execution_count": 24,
   "metadata": {},
   "outputs": [
    {
     "data": {
      "text/plain": [
       "86     NaN\n",
       "87     NaN\n",
       "88     NaN\n",
       "89     NaN\n",
       "90     NaN\n",
       "91     NaN\n",
       "92     NaN\n",
       "93     NaN\n",
       "94     NaN\n",
       "96     NaN\n",
       "151      1\n",
       "152    NaN\n",
       "213    NaN\n",
       "224    NaN\n",
       "235    NaN\n",
       "246    NaN\n",
       "257    NaN\n",
       "268    NaN\n",
       "279    NaN\n",
       "290    NaN\n",
       "Name: science_belief, dtype: object"
      ]
     },
     "execution_count": 24,
     "metadata": {},
     "output_type": "execute_result"
    }
   ],
   "source": [
    "# make a data frame for math exactly as ego_science but with the math score and belief\n",
    "ego_math = ego_signal_wide.loc[(ego_signal_wide['effort']>=0) & (ego_signal_wide['topic']=='Math'),\n",
    "                    ['code', 'round_number', 'effort', 'fails', 'last_button', 'math_score', 'topic', 'signal']]\n",
    "# impute the values for math_belief and the math_certainty from the table beliefs\n",
    "ego_math = ego_math.merge(beliefs[['code', 'math_belief', 'math_certainty']], on='code', how='left')\n",
    "\n",
    "# add a column with the type according to the science score\n",
    "ego_math.loc[ego_math['math_score']>15, 'type'] = '2'\n",
    "ego_math.loc[ego_math['math_score']<15, 'type'] = '1'\n",
    "ego_math.loc[ego_math['math_score']<6, 'type'] = '0'\n",
    "\n",
    "# make a data frame for verbal exactly as ego_science but with the verbal score and belief\n",
    "ego_verbal = ego_signal_wide.loc[(ego_signal_wide['effort']>=0) & (ego_signal_wide['topic']=='Verbal'),\n",
    "                    ['code', 'round_number', 'effort', 'fails', 'last_button', 'verbal_score', 'topic', 'signal']]\n",
    "# impute the values for verbal_belief and the verbal_certainty from the table beliefs\n",
    "ego_verbal = ego_verbal.merge(beliefs[['code', 'verbal_belief', 'verbal_certainty']], on='code', how='left')\n",
    "\n",
    "\n",
    "\n",
    "\n"
   ]
  },
  {
   "cell_type": "code",
   "execution_count": 22,
   "metadata": {},
   "outputs": [
    {
     "data": {
      "text/plain": [
       "0    16\n",
       "1    12\n",
       "Name: science_score, dtype: int64"
      ]
     },
     "execution_count": 22,
     "metadata": {},
     "output_type": "execute_result"
    }
   ],
   "source": [
    "ego_participant['science_score']"
   ]
  },
  {
   "cell_type": "code",
   "execution_count": null,
   "metadata": {},
   "outputs": [],
   "source": []
  }
 ],
 "metadata": {
  "kernelspec": {
   "display_name": "Python 3",
   "language": "python",
   "name": "python3"
  },
  "language_info": {
   "codemirror_mode": {
    "name": "ipython",
    "version": 3
   },
   "file_extension": ".py",
   "mimetype": "text/x-python",
   "name": "python",
   "nbconvert_exporter": "python",
   "pygments_lexer": "ipython3",
   "version": "3.10.7"
  },
  "orig_nbformat": 4
 },
 "nbformat": 4,
 "nbformat_minor": 2
}
